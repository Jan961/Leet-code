{
 "cells": [
  {
   "cell_type": "code",
   "execution_count": 1,
   "metadata": {},
   "outputs": [],
   "source": [
    "months = ['January', 'February', 'march', 'April', 'May', \n",
    "          'June', 'July', 'August', 'September', 'October', 'November', 'December']\n",
    "primes = [ 101, 103, 107, 109, 113, 127, 131, 137, 139, 149]"
   ]
  },
  {
   "cell_type": "code",
   "execution_count": 5,
   "metadata": {},
   "outputs": [],
   "source": [
    "def is_prime(n):\n",
    "    for i in range(2, n//2 +1):\n",
    "        if n%i == 0:\n",
    "            return False\n",
    "    return True\n",
    "\n",
    "def check_factors(n):\n",
    "    divisors = []\n",
    "    for prime in primes:\n",
    "        if n%prime == 0:\n",
    "            divisors.append(prime)\n",
    "    return (n, divisors)\n",
    "            "
   ]
  },
  {
   "cell_type": "code",
   "execution_count": 6,
   "metadata": {},
   "outputs": [
    {
     "name": "stdout",
     "output_type": "stream",
     "text": [
      "['January', 'march', 'April', 'May', 'October']\n"
     ]
    }
   ],
   "source": [
    "prime_months = [m for m in months if is_prime(len(m)) ]\n",
    "print(prime_months)"
   ]
  },
  {
   "cell_type": "code",
   "execution_count": 13,
   "metadata": {},
   "outputs": [
    {
     "name": "stdout",
     "output_type": "stream",
     "text": [
      "[(1957, [103]), (1962, [109]), (1965, [131])]\n"
     ]
    }
   ],
   "source": [
    "possible_years = list(filter(lambda i:len(i[1]), map(check_factors, range(1956, 1990))))\n",
    "        \n",
    "print(possible_years)"
   ]
  },
  {
   "cell_type": "code",
   "execution_count": null,
   "metadata": {},
   "outputs": [],
   "source": []
  }
 ],
 "metadata": {
  "kernelspec": {
   "display_name": "Python 3 (ipykernel)",
   "language": "python",
   "name": "python3"
  },
  "language_info": {
   "codemirror_mode": {
    "name": "ipython",
    "version": 3
   },
   "file_extension": ".py",
   "mimetype": "text/x-python",
   "name": "python",
   "nbconvert_exporter": "python",
   "pygments_lexer": "ipython3",
   "version": "3.11.4"
  }
 },
 "nbformat": 4,
 "nbformat_minor": 1
}
