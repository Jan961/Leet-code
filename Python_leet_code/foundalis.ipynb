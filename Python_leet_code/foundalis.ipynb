{
 "cells": [
  {
   "cell_type": "code",
   "execution_count": 1,
   "metadata": {},
   "outputs": [],
   "source": [
    "months = ['January', 'February', 'march', 'April', 'May', \n",
    "          'June', 'July', 'August', 'September', 'October', 'November', 'December']\n",
    "primes = [ 101, 103, 107, 109, 113, 127, 131, 137, 139, 149]"
   ]
  },
  {
   "cell_type": "code",
   "execution_count": 2,
   "metadata": {},
   "outputs": [],
   "source": [
    "def is_prime(n):\n",
    "    for i in range(2, n//2 +1):\n",
    "        if n%i == 0:\n",
    "            return False\n",
    "    return True\n",
    "\n",
    "def check_factors(n):\n",
    "    divisors = []\n",
    "    for prime in primes:\n",
    "        if n%prime == 0:\n",
    "            divisors.append(prime)\n",
    "    return (n, divisors)\n",
    "            "
   ]
  },
  {
   "cell_type": "code",
   "execution_count": 6,
   "metadata": {},
   "outputs": [],
   "source": [
    "primes2 = [2, 3, 5, 7, 11, 13, 17, 19, 23, 29]\n",
    "\n"
   ]
  },
  {
   "cell_type": "code",
   "execution_count": 3,
   "metadata": {},
   "outputs": [
    {
     "name": "stdout",
     "output_type": "stream",
     "text": [
      "['January', 'march', 'April', 'May', 'October']\n"
     ]
    }
   ],
   "source": [
    "prime_months = [m for m in months if is_prime(len(m)) ]\n",
    "print(prime_months)"
   ]
  },
  {
   "cell_type": "code",
   "execution_count": 11,
   "metadata": {},
   "outputs": [
    {
     "name": "stdout",
     "output_type": "stream",
     "text": [
      "[(12, 5, 30), (14, 3, 30)]\n"
     ]
    }
   ],
   "source": [
    "possible_month_len= []\n",
    "\n",
    "for p in primes2:\n",
    "    for x in primes2[1:]:\n",
    "        if (p - x)*x in [30,31]:\n",
    "            possible_month_len.append((p+1,x,(p - x)*x))\n",
    "            \n",
    "\n",
    "print(possible_month_len)"
   ]
  },
  {
   "cell_type": "code",
   "execution_count": 4,
   "metadata": {},
   "outputs": [
    {
     "name": "stdout",
     "output_type": "stream",
     "text": [
      "[(1957, [103]), (1962, [109]), (1965, [131])]\n"
     ]
    }
   ],
   "source": [
    "possible_years = list(filter(lambda i:len(i[1]), map(check_factors, range(1956, 1990))))\n",
    "\n",
    "print()        \n",
    "print(possible_years)"
   ]
  },
  {
   "cell_type": "code",
   "execution_count": 10,
   "metadata": {},
   "outputs": [
    {
     "name": "stdout",
     "output_type": "stream",
     "text": [
      "[(1962, 3), (1965, 5), (1965, 3)]\n"
     ]
    }
   ],
   "source": [
    "narrowed_down_years = [(y[0], d) for y in possible_years for d in list(map(lambda i: i[1],possible_month_len)) if y[0]%d == 0  ]\n",
    "print(narrowed_down_years)"
   ]
  }
 ],
 "metadata": {
  "kernelspec": {
   "display_name": "Python 3 (ipykernel)",
   "language": "python",
   "name": "python3"
  },
  "language_info": {
   "codemirror_mode": {
    "name": "ipython",
    "version": 3
   },
   "file_extension": ".py",
   "mimetype": "text/x-python",
   "name": "python",
   "nbconvert_exporter": "python",
   "pygments_lexer": "ipython3",
   "version": "3.11.4"
  }
 },
 "nbformat": 4,
 "nbformat_minor": 1
}
