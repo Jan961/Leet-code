{
 "cells": [
  {
   "cell_type": "code",
   "id": "initial_id",
   "metadata": {
    "collapsed": true,
    "ExecuteTime": {
     "end_time": "2024-09-24T17:53:25.034086Z",
     "start_time": "2024-09-24T17:53:25.018588Z"
    }
   },
   "source": [
    "def knapsack(loot, weight_limit):\n",
    "  grid = [[ 0 for capacity \n",
    "          in range(weight_limit + 1)] \n",
    "          for item in range(len(loot)+ 1)]\n",
    "\n",
    "  for i in range(1,len(loot)+1):\n",
    "    for j in range(1,weight_limit + 1):\n",
    "      prev_best = grid[i-1][j] #previous best for the capacity\n",
    "      # print(f\" previous best for capacity {j} is {prev_best}\")\n",
    "      \n",
    "      best_minus_curr_idx = j - loot[i-1][0]\n",
    "      if best_minus_curr_idx >= 0:\n",
    "        best_minus_curr = grid[i-1][best_minus_curr_idx]\n",
    "        value = max(prev_best, best_minus_curr + loot[i-1][1])\n",
    "\n",
    "      else:\n",
    "        value = prev_best\n",
    "      \n",
    "      grid[i][j] = value\n",
    "    \n",
    "  return grid[-1][-1]"
   ],
   "outputs": [],
   "execution_count": 21
  },
  {
   "metadata": {
    "ExecuteTime": {
     "end_time": "2024-09-24T17:53:25.934886Z",
     "start_time": "2024-09-24T17:53:25.916989Z"
    }
   },
   "cell_type": "code",
   "source": [
    "weights = (95, 4, 60, 32, 23, 72, 80, 62, 65, 46)\n",
    "profits = (55, 10, 47, 5, 4, 50, 8, 61, 85, 87)\n",
    "loot = list(zip(weights, profits))\n",
    "max_weight = 269\n",
    "\n",
    "print(knapsack(loot, max_weight))"
   ],
   "id": "d2839bfc5230988a",
   "outputs": [
    {
     "name": "stdout",
     "output_type": "stream",
     "text": [
      "295\n"
     ]
    }
   ],
   "execution_count": 22
  },
  {
   "metadata": {
    "ExecuteTime": {
     "end_time": "2024-09-24T17:56:05.245703Z",
     "start_time": "2024-09-24T17:56:05.227514Z"
    }
   },
   "cell_type": "code",
   "source": [
    "weights = (92, 4, 43, 83, 84, 68, 92, 82, 6, 44, 32, 18, 56, 83, 25, 96, 70, 48,\n",
    "14, 58)\n",
    "profits = (44, 46, 90, 72, 91, 40, 75, 35, 8, 54, 78, 40, 77, 15, 61, 17, 75,\n",
    "29, 75, 63)\n",
    "max_weight = 878\n",
    "loot = list(zip(weights, profits))\n",
    "print(knapsack(loot, max_weight))\n",
    "\n"
   ],
   "id": "a2bec63deb4a1b50",
   "outputs": [
    {
     "name": "stdout",
     "output_type": "stream",
     "text": [
      "1024\n"
     ]
    }
   ],
   "execution_count": 24
  },
  {
   "metadata": {},
   "cell_type": "code",
   "outputs": [],
   "execution_count": null,
   "source": "",
   "id": "aa6762901ab8e0bc"
  }
 ],
 "metadata": {
  "kernelspec": {
   "display_name": "Python 3",
   "language": "python",
   "name": "python3"
  },
  "language_info": {
   "codemirror_mode": {
    "name": "ipython",
    "version": 2
   },
   "file_extension": ".py",
   "mimetype": "text/x-python",
   "name": "python",
   "nbconvert_exporter": "python",
   "pygments_lexer": "ipython2",
   "version": "2.7.6"
  }
 },
 "nbformat": 4,
 "nbformat_minor": 5
}
