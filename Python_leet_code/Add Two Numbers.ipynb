{
 "cells": [
  {
   "cell_type": "code",
   "execution_count": 2,
   "metadata": {
    "collapsed": true
   },
   "outputs": [],
   "source": [
    "# Definition for singly-linked list.\n",
    "class ListNode:\n",
    "    def __init__(self, val=0, next=None):\n",
    "        self.val = val\n",
    "        self.next = next\n",
    "\n"
   ]
  },
  {
   "cell_type": "code",
   "execution_count": 18,
   "outputs": [],
   "source": [
    "from ctypes import Array\n",
    "from typing import Optional, List\n",
    "\n",
    "\n",
    "class Solution:\n",
    "    @staticmethod\n",
    "    def addTwoNumbers(l1: Optional[ListNode], l2: Optional[ListNode]) -> Optional[ListNode]:\n",
    "\n",
    "        next = 0\n",
    "        out = ListNode()\n",
    "        to_return = out\n",
    "\n",
    "        n1 = l1\n",
    "        n2 = l2\n",
    "        while( True):\n",
    "\n",
    "            v1 = n1.val if n1 is not None else 0\n",
    "            v2 = n2.val if n2 is not None else 0\n",
    "            curr = v1 + v2 + next\n",
    "            print(f\"curr {curr}\")\n",
    "\n",
    "            if curr >=10:\n",
    "                out.val = curr -10\n",
    "                next =1\n",
    "            else:\n",
    "                out.val = curr\n",
    "                next = 0\n",
    "\n",
    "            if n1 is not None:\n",
    "                n1 = n1.next\n",
    "            if n2 is not None:\n",
    "                n2 = n2.next\n",
    "            print(f\"next {next}\")\n",
    "\n",
    "            if (n1 is None and n2 is None and next == 0):\n",
    "                print(\"returning\")\n",
    "                return to_return\n",
    "            else:\n",
    "                out.next = ListNode()\n",
    "                out = out.next\n",
    "\n",
    "\n",
    "    @staticmethod\n",
    "    def create_list( nums: List) -> ListNode:\n",
    "        nums.reverse()\n",
    "        out = ListNode()\n",
    "        first = out\n",
    "\n",
    "        for i in  range(len(nums)):\n",
    "            out.val = nums[i]\n",
    "            if i < len(nums) -1:\n",
    "                out.next = ListNode()\n",
    "                out = out.next\n",
    "\n",
    "        return   first\n",
    "\n",
    "    @staticmethod\n",
    "    def print_list( list: ListNode):\n",
    "\n",
    "        while list is not None:\n",
    "            print(list.val)\n",
    "            list = list.next\n",
    "\n",
    "\n"
   ],
   "metadata": {
    "collapsed": false
   }
  },
  {
   "cell_type": "code",
   "execution_count": null,
   "outputs": [],
   "source": [],
   "metadata": {
    "collapsed": false
   }
  },
  {
   "cell_type": "code",
   "execution_count": 19,
   "outputs": [
    {
     "name": "stdout",
     "output_type": "stream",
     "text": [
      "9\n",
      "9\n",
      "9\n",
      "9\n",
      "9\n",
      "9\n",
      "9\n",
      "None\n",
      "curr 18\n",
      "next 1\n",
      "curr 19\n",
      "next 1\n",
      "curr 19\n",
      "next 1\n",
      "curr 19\n",
      "next 1\n",
      "curr 10\n",
      "next 1\n",
      "curr 10\n",
      "next 1\n",
      "curr 10\n",
      "next 1\n",
      "curr 1\n",
      "next 0\n",
      "returning\n",
      "8\n",
      "9\n",
      "9\n",
      "9\n",
      "0\n",
      "0\n",
      "0\n",
      "1\n",
      "\n"
     ]
    }
   ],
   "source": [
    "l1 = Solution.create_list([9,9,9,9,9,9,9])\n",
    "l2 = Solution.create_list([9,9,9,9])\n",
    "print(Solution.print_list(l1))\n",
    "\n",
    "out = Solution.addTwoNumbers(l1,l2)\n",
    "Solution.print_list(out)\n",
    "print()"
   ],
   "metadata": {
    "collapsed": false
   }
  }
 ],
 "metadata": {
  "kernelspec": {
   "display_name": "Python 3",
   "language": "python",
   "name": "python3"
  },
  "language_info": {
   "codemirror_mode": {
    "name": "ipython",
    "version": 2
   },
   "file_extension": ".py",
   "mimetype": "text/x-python",
   "name": "python",
   "nbconvert_exporter": "python",
   "pygments_lexer": "ipython2",
   "version": "2.7.6"
  }
 },
 "nbformat": 4,
 "nbformat_minor": 0
}
