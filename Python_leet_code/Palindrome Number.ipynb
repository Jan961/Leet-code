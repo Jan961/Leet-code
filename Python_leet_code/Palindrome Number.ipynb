{
 "cells": [
  {
   "cell_type": "code",
   "execution_count": 7,
   "metadata": {
    "collapsed": true
   },
   "outputs": [],
   "source": [
    "def isPalindrome( x: int) -> bool:\n",
    "\n",
    "\n",
    "    if x < 0:\n",
    "        return False\n",
    "\n",
    "    ints = list()\n",
    "    d= 10\n",
    "    while x > 0:\n",
    "        i =  x % d\n",
    "        ints.append(10*i/d)\n",
    "        x -= i\n",
    "        d *=10\n",
    "    print(ints)\n",
    "    i = 0\n",
    "    j = len(ints) -1\n",
    "    while i < j:\n",
    "        if ints[i] != ints[j]:\n",
    "            return False\n",
    "        else:\n",
    "            i +=1\n",
    "            j -=1\n",
    "    return True"
   ]
  },
  {
   "cell_type": "code",
   "execution_count": 8,
   "outputs": [
    {
     "name": "stdout",
     "output_type": "stream",
     "text": [
      "[1.0, 2.0, 1.0]\n",
      "True\n"
     ]
    }
   ],
   "source": [
    "print(isPalindrome(121))"
   ],
   "metadata": {
    "collapsed": false
   }
  }
 ],
 "metadata": {
  "kernelspec": {
   "display_name": "Python 3",
   "language": "python",
   "name": "python3"
  },
  "language_info": {
   "codemirror_mode": {
    "name": "ipython",
    "version": 2
   },
   "file_extension": ".py",
   "mimetype": "text/x-python",
   "name": "python",
   "nbconvert_exporter": "python",
   "pygments_lexer": "ipython2",
   "version": "2.7.6"
  }
 },
 "nbformat": 4,
 "nbformat_minor": 0
}
