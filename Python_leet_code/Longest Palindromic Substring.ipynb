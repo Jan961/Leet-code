{
 "cells": [
  {
   "cell_type": "code",
   "execution_count": 33,
   "metadata": {
    "collapsed": true
   },
   "outputs": [],
   "source": [
    "import numpy as np\n",
    "\n",
    "\n",
    "def longestPalindrome( s: str) -> str:\n",
    "\n",
    "    max_len = 0\n",
    "    pali_out = None\n",
    "    even = True\n",
    "\n",
    "    for j in [1, 2]:\n",
    "        for i in range(len(s)):\n",
    "            if (len(s) > i+j and s[i] == s[i+j] ):\n",
    "                start = i\n",
    "                end = i+j\n",
    "                if j == 1:\n",
    "                    pali = list(s[i])\n",
    "                else:\n",
    "                    pali = list([s[i+1],s[i]])\n",
    "            else:\n",
    "                continue\n",
    "\n",
    "            start -= 1\n",
    "            end += 1\n",
    "            while start >=0 and end <len(s) and \\\n",
    "                s[start] == s[end]:\n",
    "                pali.append(s[start])\n",
    "                start -= 1\n",
    "                end += 1\n",
    "\n",
    "            if j == 1:\n",
    "                curr_len = 2*len(pali)\n",
    "\n",
    "            else:\n",
    "                curr_len = 2*(len(pali)) -1\n",
    "\n",
    "            if curr_len > max_len:\n",
    "                max_len = curr_len\n",
    "                pali_out = pali\n",
    "                even = True if j==1 else False\n",
    "\n",
    "    print(pali_out)\n",
    "    if pali_out is None:\n",
    "        return s[0]\n",
    "    elif even:\n",
    "        return \"\".join(reversed(pali_out)) + \"\".join(pali_out)\n",
    "    else:\n",
    "        return \"\".join(reversed(pali_out)) + \"\".join(pali_out[1:])\n"
   ]
  },
  {
   "cell_type": "code",
   "execution_count": 34,
   "outputs": [
    {
     "name": "stdout",
     "output_type": "stream",
     "text": [
      "['c', 'c']\n",
      "ccc\n"
     ]
    }
   ],
   "source": [
    "print(longestPalindrome(\"ccc\"))"
   ],
   "metadata": {
    "collapsed": false
   }
  }
 ],
 "metadata": {
  "kernelspec": {
   "display_name": "Python 3",
   "language": "python",
   "name": "python3"
  },
  "language_info": {
   "codemirror_mode": {
    "name": "ipython",
    "version": 2
   },
   "file_extension": ".py",
   "mimetype": "text/x-python",
   "name": "python",
   "nbconvert_exporter": "python",
   "pygments_lexer": "ipython2",
   "version": "2.7.6"
  }
 },
 "nbformat": 4,
 "nbformat_minor": 0
}
