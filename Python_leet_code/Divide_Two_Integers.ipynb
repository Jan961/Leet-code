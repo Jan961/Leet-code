{
 "cells": [
  {
   "cell_type": "code",
   "execution_count": null,
   "metadata": {
    "collapsed": true
   },
   "outputs": [],
   "source": [
    "class Solution:\n",
    "    def divide(self, dividend: int, divisor: int) -> int:\n",
    "        sign_bool = (dividend>0) == (divisor>0)\n",
    "        sign = 1 if sign_bool else -1\n",
    "        if dividend ==0:\n",
    "            return 0\n",
    "\n",
    "        if (dividend == -2147483648 and divisor == -1):\n",
    "             return 2147483647\n",
    "\n",
    "        if (dividend == divisor):\n",
    "            return sign\n",
    "\n",
    "        ab_1, ab_2 = abs(dividend), abs(divisor)\n",
    "        counter = 0\n",
    "        res = ab_1\n",
    "        while res >0:\n",
    "\n",
    "            counter +=1\n",
    "            if (sign_bool and counter > 2**31 - 1 ):\n",
    "                return sign*(2**31 - 1)\n",
    "            elif (not sign_bool and counter > 2**31):\n",
    "                return sign*(2**31)\n",
    "\n",
    "            res -= ab_2\n",
    "\n",
    "        if res < 0:\n",
    "            counter -=1\n",
    "\n",
    "        return sign*counter"
   ]
  }
 ],
 "metadata": {
  "kernelspec": {
   "display_name": "Python 3",
   "language": "python",
   "name": "python3"
  },
  "language_info": {
   "codemirror_mode": {
    "name": "ipython",
    "version": 2
   },
   "file_extension": ".py",
   "mimetype": "text/x-python",
   "name": "python",
   "nbconvert_exporter": "python",
   "pygments_lexer": "ipython2",
   "version": "2.7.6"
  }
 },
 "nbformat": 4,
 "nbformat_minor": 0
}
