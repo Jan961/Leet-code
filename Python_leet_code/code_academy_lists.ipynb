{
 "cells": [
  {
   "metadata": {},
   "cell_type": "markdown",
   "source": "Capture rainwater\n",
   "id": "c5a8cddaed518c0e"
  },
  {
   "metadata": {},
   "cell_type": "code",
   "outputs": [],
   "execution_count": null,
   "source": "",
   "id": "f86ca64071cf006e"
  },
  {
   "metadata": {},
   "cell_type": "code",
   "outputs": [],
   "execution_count": null,
   "source": [
    "def optimized_rain_water(histogram):\n",
    "  total = 0\n",
    "\n",
    "  left_maxes =[]\n",
    "  max_left = histogram[0]\n",
    "  for i in range(1, len(histogram) - 1):\n",
    "    curr = histogram[i]\n",
    "    if curr > max_left: \n",
    "      max_left = curr\n",
    "    left_maxes.append(max_left)\n",
    "\n",
    "\n",
    "\n",
    "  max_right = histogram[-1]  \n",
    "  right_maxes = [max_right]\n",
    "  for i in range(len(histogram) - 1, 1,-1):\n",
    "    curr = histogram[i]\n",
    "    if curr > max_right: \n",
    "      max_right = curr\n",
    "    right_maxes.insert(0,max_right)\n",
    "\n",
    "  for i in range(1, len(histogram) - 1):\n",
    "    fill_mark = max(min(right_maxes[i] , left_maxes[i]) - histogram[i],0)\n",
    "    total += fill_mark"
   ],
   "id": "34be88de60b56b78"
  },
  {
   "metadata": {},
   "cell_type": "markdown",
   "source": [
    "Move duplicates to the end of an array:\n",
    "input - sorted array\n",
    "out - index of the last unique element\n",
    "\n",
    "\n",
    "3 (or 2) pointers \n",
    "1 last unique element\n",
    "2nd left moving right\n",
    "3rd right position to insert duplicates\n",
    "stop when l>=r\n",
    "\n",
    "substract 1 from the unique el index before return bc of an extra addition"
   ],
   "id": "3291cf162904ff8e"
  },
  {
   "metadata": {},
   "cell_type": "code",
   "outputs": [],
   "execution_count": null,
   "source": [
    "def swap(my_list, id_a, id_b):\n",
    "  temp = my_list[id_b]\n",
    "  my_list[id_b] = my_list[id_a]\n",
    "  my_list[id_a] = temp\n",
    "\n",
    "def move_duplicates(dupe_list):\n",
    "  last_unique_index = 0\n",
    "  l = 1\n",
    "  r = len(dupe_list)-1\n",
    "\n",
    "  while l<r:\n",
    "    if dupe_list[last_unique_index] == dupe_list[l]:\n",
    "      if dupe_list[last_unique_index] == dupe_list[r]:\n",
    "        r -= 1\n",
    "      else:\n",
    "        swap(dupe_list,l,r)\n",
    "        l+=1\n",
    "        r-=1\n",
    "        last_unique_index+=1\n",
    "    else:\n",
    "      l+=1\n",
    "      last_unique_index+=1\n",
    "  return last_unique_index-1\n",
    "\n",
    "\n",
    "a = ['a', 'a', 'g', 't', 't', 'x', 'x', 'x']\n",
    "move_duplicates(a)\n",
    "print(a)"
   ],
   "id": "8c1ba01f11c7e97d"
  }
 ],
 "metadata": {
  "kernelspec": {
   "display_name": "Python 3",
   "language": "python",
   "name": "python3"
  },
  "language_info": {
   "codemirror_mode": {
    "name": "ipython",
    "version": 2
   },
   "file_extension": ".py",
   "mimetype": "text/x-python",
   "name": "python",
   "nbconvert_exporter": "python",
   "pygments_lexer": "ipython2",
   "version": "2.7.6"
  }
 },
 "nbformat": 4,
 "nbformat_minor": 5
}
