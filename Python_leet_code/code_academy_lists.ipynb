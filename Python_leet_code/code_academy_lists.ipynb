{
 "cells": [
  {
   "metadata": {},
   "cell_type": "markdown",
   "source": "Capture rainwater\n",
   "id": "c5a8cddaed518c0e"
  },
  {
   "metadata": {},
   "cell_type": "code",
   "outputs": [],
   "execution_count": null,
   "source": "",
   "id": "f86ca64071cf006e"
  },
  {
   "metadata": {},
   "cell_type": "code",
   "outputs": [],
   "execution_count": null,
   "source": [
    "def optimized_rain_water(histogram):\n",
    "  total = 0\n",
    "\n",
    "  left_maxes =[]\n",
    "  max_left = histogram[0]\n",
    "  for i in range(1, len(histogram) - 1):\n",
    "    curr = histogram[i]\n",
    "    if curr > max_left: \n",
    "      max_left = curr\n",
    "    left_maxes.append(max_left)\n",
    "\n",
    "\n",
    "\n",
    "  max_right = histogram[-1]  \n",
    "  right_maxes = [max_right]\n",
    "  for i in range(len(histogram) - 1, 1,-1):\n",
    "    curr = histogram[i]\n",
    "    if curr > max_right: \n",
    "      max_right = curr\n",
    "    right_maxes.insert(0,max_right)\n",
    "\n",
    "  for i in range(1, len(histogram) - 1):\n",
    "    fill_mark = max(min(right_maxes[i] , left_maxes[i]) - histogram[i],0)\n",
    "    total += fill_mark"
   ],
   "id": "34be88de60b56b78"
  },
  {
   "metadata": {},
   "cell_type": "markdown",
   "source": "",
   "id": "3291cf162904ff8e"
  }
 ],
 "metadata": {
  "kernelspec": {
   "display_name": "Python 3",
   "language": "python",
   "name": "python3"
  },
  "language_info": {
   "codemirror_mode": {
    "name": "ipython",
    "version": 2
   },
   "file_extension": ".py",
   "mimetype": "text/x-python",
   "name": "python",
   "nbconvert_exporter": "python",
   "pygments_lexer": "ipython2",
   "version": "2.7.6"
  }
 },
 "nbformat": 4,
 "nbformat_minor": 5
}
